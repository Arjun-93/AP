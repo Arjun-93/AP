{
 "cells": [
  {
   "cell_type": "code",
   "execution_count": null,
   "metadata": {},
   "outputs": [],
   "source": [
    "from matplotlib import pyplot as plt3\n",
    "\n",
    "imgs = [255 * ((img& (1<<i)) >>i) for i in range(8)]\n",
    "\n",
    "for i in range(8):\n",
    "    plt3.imshow(imgs[i],cmap='gray')\n",
    "    plt3.show()\n",
    "    cv2.imwrite('bsp_1.jpg',imgs[0])\n",
    "    cv2.imwrite('bsp_2.jpg',imgs[1])\n",
    "    cv2.imwrite('bsp_3.jpg',imgs[2])\n",
    "    cv2.imwrite('bsp_4.jpg',imgs[3])\n",
    "    cv2.imwrite('bsp_5.jpg',imgs[4])\n",
    "    cv2.imwrite('bsp_6.jpg',imgs[5])\n",
    "    cv2.imwrite('bsp_7.jpg',imgs[6])\n",
    "    cv2.imwrite('bsp_8.jpg',imgs[7])"
   ]
  }
 ],
 "metadata": {
  "kernelspec": {
   "display_name": "Python 3.9.13 64-bit",
   "language": "python",
   "name": "python3"
  },
  "language_info": {
   "name": "python",
   "version": "3.9.13"
  },
  "orig_nbformat": 4,
  "vscode": {
   "interpreter": {
    "hash": "c5a9b1db969bd97e3f32583f3a99082870c34f33146338eecd0964e32ada8b48"
   }
  }
 },
 "nbformat": 4,
 "nbformat_minor": 2
}
